{
 "cells": [
  {
   "cell_type": "code",
   "execution_count": 1,
   "metadata": {},
   "outputs": [],
   "source": [
    "def Ee_mail_karo(context):\n",
    "    #context = { \"email\" :  \n",
    "    #            \"name\"  :\n",
    "    #            \"pdfname\" : ### preferably in the same folder as this script  \n",
    "    # }\n",
    "    import os\n",
    "    import smtplib\n",
    "    import imghdr\n",
    "    from email.message import EmailMessage\n",
    "    \n",
    "    #change acc to your environment variables \n",
    "    EMAIL_ADDRESS = os.environ.get('EMAIL_USER')\n",
    "    EMAIL_PASSWORD = os.environ.get('EMAIL_PASS')\n",
    "\n",
    "    msg = EmailMessage()\n",
    "    msg['Subject'] = 'Medical prescription'\n",
    "    msg['From'] = EMAIL_ADDRESS\n",
    "    msg['To'] = context[\"email\"]\n",
    "\n",
    "    #pass the name of the patient in the context and edit the text content of the mail accordingly\n",
    "    msg.set_content('This is a plain text email')\n",
    "\n",
    "    files = [context[\"pdfname\"]]\n",
    "\n",
    "    for file in files:\n",
    "        with open(file, 'rb') as f:\n",
    "            file_data = f.read()\n",
    "            file_name = f.name\n",
    "        msg.add_attachment(file_data, maintype='application', subtype='octet-stream', filename = file_name)\n",
    "\n",
    "    with smtplib.SMTP_SSL('smtp.gmail.com', 465) as smtp:\n",
    "        smtp.login(EMAIL_ADDRESS, EMAIL_PASSWORD)\n",
    "        smtp.send_message(msg) \n"
   ]
  },
  {
   "cell_type": "code",
   "execution_count": 2,
   "metadata": {},
   "outputs": [],
   "source": [
    "from fpdf import FPDF\n",
    "import PyPDF2\n",
    "\n",
    "class PDF(FPDF):\n",
    "    def header(self): \n",
    "        self.line(10,10,200,10)\n",
    "        self.line(200,10,200,280)\n",
    "        self.line(10,10,10,280)\n",
    "        self.line(10,280,200,280)    \n",
    "        # Logo\n",
    "        self.image('logo.png', 10, 8, 33)\n",
    "        # Arial bold 15\n",
    "        self.set_font('Arial', 'B', 20)\n",
    "        # Move to the right\n",
    "        self.cell(80)\n",
    "        # Title\n",
    "        self.cell(30, 10, 'Prescription', 0, 0, 'C')\n",
    "        # Line break\n",
    "        self.ln(20)\n",
    "\n",
    "    # Page footer\n",
    "    def footer(self):\n",
    "        # Position at 1.5 cm from bottom\n",
    "        self.set_y(-15)\n",
    "        # Arial italic 8\n",
    "        self.set_font('Arial', 'I', 8)\n",
    "        # Page number\n",
    "        self.cell(0, 10, 'Page ' + str(self.page_no()) + '/{nb}', 0, 0, 'C')\n",
    "\n",
    "# Instantiation of inherited class\n",
    "def body(list):\n",
    "    pdf = PDF()\n",
    "    pdf.alias_nb_pages()\n",
    "    pdf.add_page()\n",
    "    pdf.set_font('Times', '', 12)\n",
    "    pdf.cell(0, 10, '', 0, 1)\n",
    "    pdf.cell(0, 10, '', 0, 1)\n",
    "    pdf.cell(0, 10, 'Patient:  '+list[0],1,1)\n",
    "    pdf.cell(0, 10, 'Age:  '+list[1],1,1)\n",
    "    pdf.cell(0, 10, 'Gender:  '+list[2],1,1)\n",
    "    pdf.cell(0, 10, 'Diagnosis:  '+list[3],1,1)\n",
    "    pdf.cell(0, 10, \"Prognosis:  \"+list[4],1,1)\n",
    "    pdf.cell(0, 10, \"Medicine:  \"+list[5],1,1)\n",
    "    pdf.cell(0, 10, \"Comments:  \"+list[6],1,1)\n",
    "    pdf.cell(0, 10, \"E-Mail ID:  \"+list[7],1,1)\n",
    "    \n",
    "    pdf.output('test.pdf','F')\n",
    "    import PyPDF2\n",
    "    pdfFile = open('test.pdf', 'rb')\n",
    "    \n",
    "    pdfReader = PyPDF2.PdfFileReader(pdfFile)\n",
    "    pdfWriter = PyPDF2.PdfFileWriter()\n",
    "    \n",
    "    for pageNum in range(pdfReader.numPages):\n",
    "        pdfWriter.addPage(pdfReader.getPage(pageNum))\n",
    "    \n",
    "    pdfWriter.encrypt(list[0][:3]+list[1])\n",
    "    \n",
    "    resultPdf = open('encrypted_output.pdf', 'wb')\n",
    "    \n",
    "    pdfWriter.write(resultPdf)\n",
    "    resultPdf.close()\n"
   ]
  },
  {
   "cell_type": "code",
   "execution_count": 3,
   "metadata": {},
   "outputs": [
    {
     "name": "stdout",
     "output_type": "stream",
     "text": [
      "Say Something\n",
      "Time's up!!\n"
     ]
    }
   ],
   "source": [
    "import speech_recognition as sr\n",
    "# import pdf_main_nb\n",
    "r = sr.Recognizer()\n",
    "with sr.Microphone() as source:\n",
    "    print(\"Say Something\")\n",
    "    audio = r.listen(source)\n",
    "    print(\"Time's up!!\")\n",
    "    \n",
    "try:\n",
    "    print(\"Text was:\"  + r.recognize_google(audio))\n",
    "except:\n",
    "    pass\n",
    "\n",
    "pres = ['Amogh','69','Male','coughing','CORONA','Bat Soup','RIP','719.sn33@gmail.com']\n",
    "# pdf_main(pres)"
   ]
  },
  {
   "cell_type": "code",
   "execution_count": 4,
   "metadata": {},
   "outputs": [],
   "source": [
    "body(pres)\n",
    "context = {\"email\" :  pres[7],\n",
    "            \"name\"  : pres[0],\n",
    "            \"pdfname\" : 'encrypted_output.pdf'\n",
    "          }\n",
    "Ee_mail_karo(context)"
   ]
  },
  {
   "cell_type": "code",
   "execution_count": null,
   "metadata": {},
   "outputs": [],
   "source": []
  }
 ],
 "metadata": {
  "kernelspec": {
   "display_name": "Python 3",
   "language": "python",
   "name": "python3"
  },
  "language_info": {
   "codemirror_mode": {
    "name": "ipython",
    "version": 3
   },
   "file_extension": ".py",
   "mimetype": "text/x-python",
   "name": "python",
   "nbconvert_exporter": "python",
   "pygments_lexer": "ipython3",
   "version": "3.7.1"
  }
 },
 "nbformat": 4,
 "nbformat_minor": 2
}
